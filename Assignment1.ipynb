{
 "cells": [
  {
   "cell_type": "code",
   "execution_count": 1,
   "id": "9f87185b",
   "metadata": {},
   "outputs": [
    {
     "name": "stdout",
     "output_type": "stream",
     "text": [
      "the string is :  priya\n"
     ]
    }
   ],
   "source": [
    "str=\"priya\"\n",
    "print(\"the string is : \",str)"
   ]
  },
  {
   "cell_type": "code",
   "execution_count": 2,
   "id": "eb1e4776",
   "metadata": {},
   "outputs": [
    {
     "ename": "TypeError",
     "evalue": "'str' object does not support item assignment",
     "output_type": "error",
     "traceback": [
      "\u001b[1;31m---------------------------------------------------------------------------\u001b[0m",
      "\u001b[1;31mTypeError\u001b[0m                                 Traceback (most recent call last)",
      "\u001b[1;32m~\\AppData\\Local\\Temp\\ipykernel_1336\\661536508.py\u001b[0m in \u001b[0;36m<module>\u001b[1;34m\u001b[0m\n\u001b[1;32m----> 1\u001b[1;33m \u001b[0mstr\u001b[0m\u001b[1;33m[\u001b[0m\u001b[1;36m1\u001b[0m\u001b[1;33m]\u001b[0m\u001b[1;33m=\u001b[0m\u001b[1;34m'a'\u001b[0m\u001b[1;33m\u001b[0m\u001b[1;33m\u001b[0m\u001b[0m\n\u001b[0m\u001b[0;32m      2\u001b[0m \u001b[0mstr\u001b[0m\u001b[1;33m\u001b[0m\u001b[1;33m\u001b[0m\u001b[0m\n",
      "\u001b[1;31mTypeError\u001b[0m: 'str' object does not support item assignment"
     ]
    }
   ],
   "source": [
    "str[1]='a'\n",
    "str"
   ]
  },
  {
   "cell_type": "code",
   "execution_count": 3,
   "id": "27350544",
   "metadata": {},
   "outputs": [
    {
     "name": "stdout",
     "output_type": "stream",
     "text": [
      "The list is :  [4, 7, 2, 9]\n",
      "After change the content of index 2 :  [4, 7, 5, 9]\n"
     ]
    }
   ],
   "source": [
    "list1=[4,7,2,9]\n",
    "print(\"The list is : \",list1)\n",
    "list1[2]=5\n",
    "print(\"After change the content of index 2 : \",list1)"
   ]
  },
  {
   "cell_type": "code",
   "execution_count": 4,
   "id": "57634a66",
   "metadata": {},
   "outputs": [
    {
     "name": "stdout",
     "output_type": "stream",
     "text": [
      "The list is :  [4, 7, 2, 9]\n",
      "the contnt of index 2 :  2\n",
      "the element in -1 :  9\n"
     ]
    }
   ],
   "source": [
    "list2=[4,7,2,9]\n",
    "print(\"The list is : \",list2)\n",
    "print(\"the contnt of index 2 : \",list2[2])\n",
    "print(\"the element in -1 : \",list2[-1])"
   ]
  },
  {
   "cell_type": "code",
   "execution_count": 5,
   "id": "34ae9f8f",
   "metadata": {},
   "outputs": [
    {
     "name": "stdout",
     "output_type": "stream",
     "text": [
      "the element of zlist is : [0, 0, 0, 0, 0, 0, 0, 0, 0, 0]\n"
     ]
    }
   ],
   "source": [
    "zlist=[0]*10\n",
    "print(\"the element of zlist is :\",zlist)"
   ]
  },
  {
   "cell_type": "code",
   "execution_count": 42,
   "id": "a860fcac",
   "metadata": {},
   "outputs": [
    {
     "name": "stdout",
     "output_type": "stream",
     "text": [
      "the initial list is : [3, 9, 2, 7, 8, 7, 7]\n",
      "Min of the list elements is : 2\n"
     ]
    }
   ],
   "source": [
    "list3=[3,9,2,7,8,7,7]\n",
    "print(\"the initial list is :\",list3)\n",
    "n=min(list3)\n",
    "print(\"Min of the list elements is :\",n)"
   ]
  },
  {
   "cell_type": "code",
   "execution_count": 10,
   "id": "fd5fc6fa",
   "metadata": {
    "scrolled": true
   },
   "outputs": [
    {
     "name": "stdout",
     "output_type": "stream",
     "text": [
      "3\n",
      "7\n",
      "4\n",
      "0\n",
      "2\n"
     ]
    }
   ],
   "source": [
    "list1=[3,7,4,0,2]\n",
    "for i in list1:\n",
    "    print(i)"
   ]
  },
  {
   "cell_type": "code",
   "execution_count": 39,
   "id": "8fe12dcb",
   "metadata": {},
   "outputs": [
    {
     "name": "stdout",
     "output_type": "stream",
     "text": [
      "Initial list is : [1, 2, 3, 4, 5]\n",
      "Now the list is : [2, 3, 4, 5, 6]\n"
     ]
    }
   ],
   "source": [
    "list1=[1,2,3,4,5]\n",
    "print(\"Initial list is :\",list1)\n",
    "for i in range(len(list1)):\n",
    "    list1[i]=list1[i]+1\n",
    "print(\"Now the list is :\",list1)"
   ]
  },
  {
   "cell_type": "code",
   "execution_count": 15,
   "id": "403c1a91",
   "metadata": {},
   "outputs": [
    {
     "data": {
      "text/plain": [
       "[2, 3]"
      ]
     },
     "execution_count": 15,
     "metadata": {},
     "output_type": "execute_result"
    }
   ],
   "source": [
    "list1=[1,2,3,4,5]\n",
    "list1[1:3]"
   ]
  },
  {
   "cell_type": "code",
   "execution_count": 18,
   "id": "afc50d0b",
   "metadata": {},
   "outputs": [
    {
     "name": "stdout",
     "output_type": "stream",
     "text": [
      "['i', 'am', 'priya']\n"
     ]
    }
   ],
   "source": [
    "str1=\"i am priya\"\n",
    "str2=str1.split()\n",
    "print(str2)"
   ]
  },
  {
   "cell_type": "code",
   "execution_count": 19,
   "id": "f91a9db6",
   "metadata": {},
   "outputs": [
    {
     "name": "stdout",
     "output_type": "stream",
     "text": [
      "The length of list1 : 5\n"
     ]
    }
   ],
   "source": [
    "list1=[7,4,0,2,1]\n",
    "n=len(list1)\n",
    "print(\"The length of list1 :\",n)"
   ]
  },
  {
   "cell_type": "code",
   "execution_count": 22,
   "id": "3c91ba01",
   "metadata": {},
   "outputs": [
    {
     "name": "stdout",
     "output_type": "stream",
     "text": [
      "Intial List:  [1, 2, 5, 9, 4, 8, 7, 2]\n",
      "Slicing elements in a range 1-3:  [2, 5]\n",
      "Elements sliced from 2th element till the end:  [5, 9, 4, 8, 7, 2]\n",
      "Printing all elements using slice operation:  [1, 2, 5, 9, 4, 8, 7, 2]\n"
     ]
    }
   ],
   "source": [
    "List = [1,2,5,9,4,8,7,2]\n",
    "print(\"Intial List: \",List)\n",
    "SList = List[1:3]\n",
    "print(\"Slicing elements in a range 1-3: \",SList)\n",
    "SList = List[2:]\n",
    "print(\"Elements sliced from 2th element till the end: \",SList)\n",
    "SList = List[:]\n",
    "print(\"Printing all elements using slice operation: \",SList)"
   ]
  },
  {
   "cell_type": "code",
   "execution_count": 43,
   "id": "f7b281c9",
   "metadata": {},
   "outputs": [
    {
     "name": "stdout",
     "output_type": "stream",
     "text": [
      "The emptyDictionary is: {}\n"
     ]
    }
   ],
   "source": [
    "eDictionary = {}\n",
    "print (\"The emptyDictionary is:\", eDictionary )"
   ]
  },
  {
   "cell_type": "code",
   "execution_count": 44,
   "id": "d11714f9",
   "metadata": {},
   "outputs": [
    {
     "name": "stdout",
     "output_type": "stream",
     "text": [
      "All grades: {'a': 87, 'b': 76, 'c': 92, 'd': 89}\n"
     ]
    }
   ],
   "source": [
    "grades = { \"a\": 87, \"b\": 76, \"c\": 92, \"d\": 89 }\n",
    "print (\"All grades:\", grades )"
   ]
  },
  {
   "cell_type": "code",
   "execution_count": 45,
   "id": "d4f07e4a",
   "metadata": {},
   "outputs": [
    {
     "name": "stdout",
     "output_type": "stream",
     "text": [
      "a's current grade: 87\n",
      "a's new grade: 90\n"
     ]
    }
   ],
   "source": [
    "grades = { \"a\": 87, \"b\": 76, \"c\": 92, \"d\": 89 }\n",
    "print (\"a's current grade:\", grades[ \"a\" ] )\n",
    "grades[ \"a\" ] = 90\n",
    "print (\"a's new grade:\", grades[ \"a\" ] )"
   ]
  },
  {
   "cell_type": "code",
   "execution_count": 50,
   "id": "648f95b3",
   "metadata": {},
   "outputs": [
    {
     "name": "stdout",
     "output_type": "stream",
     "text": [
      "Initial all grades: {'a': 87, 'b': 76, 'c': 92, 'd': 89}\n",
      "Dictionary grades after modification: {'a': 87, 'b': 76, 'c': 92, 'd': 89, 'e': 93}\n"
     ]
    }
   ],
   "source": [
    "grades = { \"a\": 87, \"b\": 76, \"c\": 92, \"d\": 89 }\n",
    "print (\"Initial all grades:\", grades )\n",
    "grades[ \"e\" ] = 93\n",
    "print (\"Dictionary grades after modification:\",grades )"
   ]
  },
  {
   "cell_type": "code",
   "execution_count": 49,
   "id": "57c1a59c",
   "metadata": {},
   "outputs": [
    {
     "name": "stdout",
     "output_type": "stream",
     "text": [
      "Initial all grades: {'a': 87, 'b': 76, 'c': 92, 'd': 89}\n",
      "Dictionary grades after deletion: {'a': 87, 'b': 76, 'c': 92}\n"
     ]
    }
   ],
   "source": [
    "grades = { \"a\": 87, \"b\": 76, \"c\": 92, \"d\": 89 }\n",
    "print (\"Initial all grades:\", grades )\n",
    "del grades[ \"d\" ]\n",
    "print (\"Dictionary grades after deletion:\",grades )"
   ]
  },
  {
   "cell_type": "code",
   "execution_count": 53,
   "id": "98bf2ae1",
   "metadata": {},
   "outputs": [
    {
     "name": "stdout",
     "output_type": "stream",
     "text": [
      "a\n",
      "b\n",
      "c\n",
      "d\n",
      "a --> 87\n",
      "b --> 76\n",
      "c --> 92\n",
      "d --> 89\n"
     ]
    }
   ],
   "source": [
    "grades = { \"a\": 87, \"b\": 76, \"c\": 92, \"d\": 89 }\n",
    "for key in grades:\n",
    "    print(key)\n",
    "for key,value in grades.items():\n",
    "    print(key, '-->', value)"
   ]
  },
  {
   "cell_type": "code",
   "execution_count": 2,
   "id": "aeddf5be",
   "metadata": {},
   "outputs": [
    {
     "name": "stdout",
     "output_type": "stream",
     "text": [
      "dict_keys(['a', 'b', 'c', 'd'])\n"
     ]
    }
   ],
   "source": [
    "grades = { \"a\": 87, \"b\": 76, \"c\": 92, \"d\": 89 }\n",
    "key=grades.keys()\n",
    "print(key)"
   ]
  },
  {
   "cell_type": "code",
   "execution_count": 56,
   "id": "17e9b379",
   "metadata": {},
   "outputs": [
    {
     "name": "stdout",
     "output_type": "stream",
     "text": [
      "[1 2 3]\n"
     ]
    }
   ],
   "source": [
    "import numpy as np\n",
    "sa=np.array([1,2,3])\n",
    "print(sa)"
   ]
  },
  {
   "cell_type": "code",
   "execution_count": 60,
   "id": "b4994a62",
   "metadata": {},
   "outputs": [
    {
     "name": "stdout",
     "output_type": "stream",
     "text": [
      "[[1 2 3]\n",
      " [3 4 5]]\n",
      "[[1.1 2.  3. ]\n",
      " [3.  4.  5. ]]\n",
      "[[1.+0.j 2.+0.j 3.+0.j]\n",
      " [3.+0.j 4.+0.j 5.+0.j]]\n"
     ]
    }
   ],
   "source": [
    "import numpy as np\n",
    "mA = np.array([[1, 2, 3], [3, 4, 5]])\n",
    "print(mA)\n",
    "mA = np.array([[1.1, 2, 3], [3, 4, 5]])\n",
    "print(mA)\n",
    "mA = np.array([[1, 2, 3], [3, 4, 5]], dtype = complex)\n",
    "print(mA)"
   ]
  },
  {
   "cell_type": "code",
   "execution_count": 4,
   "id": "b5231d9e",
   "metadata": {},
   "outputs": [
    {
     "name": "stdout",
     "output_type": "stream",
     "text": [
      "Array is :\n",
      " [[1 2 3]\n",
      " [3 4 5]\n",
      " [4 5 6]]\n",
      "dimension is : 2\n",
      "Shape : (3, 3)\n",
      "data type is : int32\n"
     ]
    }
   ],
   "source": [
    "import numpy as np\n",
    "a = np.array([[1, 2, 3], [3, 4, 5],[4,5,6]])\n",
    "print(\"Array is :\\n\",a)\n",
    "print(\"dimension is :\",a.ndim)\n",
    "print(\"Shape :\",a.shape)\n",
    "print(\"data type is :\",a.dtype)"
   ]
  },
  {
   "cell_type": "code",
   "execution_count": 68,
   "id": "db25d3f9",
   "metadata": {},
   "outputs": [
    {
     "name": "stdout",
     "output_type": "stream",
     "text": [
      "First Array is :\n",
      " [[ 2  4]\n",
      " [ 5 -6]]\n",
      "Second Array is :\n",
      " [[ 9 -3]\n",
      " [ 3  6]]\n",
      "After multiply two array :\n",
      " [[ 30  18]\n",
      " [ 27 -51]]\n"
     ]
    }
   ],
   "source": [
    "import numpy as np\n",
    "A1 = np.array([[2, 4], [5, -6]])\n",
    "print(\"First Array is :\\n\",A1)\n",
    "A2 = np.array([[9, -3], [3, 6]])\n",
    "print(\"Second Array is :\\n\",A2)\n",
    "RA = A1.dot(A2)\n",
    "print(\"After multiply two array :\\n\",RA)"
   ]
  },
  {
   "cell_type": "code",
   "execution_count": 11,
   "id": "99b859c1",
   "metadata": {},
   "outputs": [
    {
     "name": "stdout",
     "output_type": "stream",
     "text": [
      "[1. 1. 1. 1. 1.]\n",
      "\n",
      "[[1. 1. 1.]\n",
      " [1. 1. 1.]]\n",
      "\n",
      "[[1 1 1 1]\n",
      " [1 1 1 1]\n",
      " [1 1 1 1]]\n",
      "\n"
     ]
    }
   ],
   "source": [
    "import numpy as np\n",
    "a=np.ones(5)\n",
    "print(a)\n",
    "print()\n",
    "b=np.ones((2,3))\n",
    "print(b)\n",
    "print()\n",
    "c=np.ones((3,4),dtype=int)\n",
    "print(c)\n",
    "print()"
   ]
  },
  {
   "cell_type": "code",
   "execution_count": 16,
   "id": "efe3c6e1",
   "metadata": {},
   "outputs": [
    {
     "name": "stdout",
     "output_type": "stream",
     "text": [
      "[3 4 5 6]\n",
      "[2. 4. 6. 8.]\n"
     ]
    }
   ],
   "source": [
    "import numpy as np\n",
    "a=np.arange(3,7)\n",
    "print(a)\n",
    "b=np.arange(2,9,2,float)\n",
    "print(b)"
   ]
  },
  {
   "cell_type": "code",
   "execution_count": 19,
   "id": "f5c64754",
   "metadata": {},
   "outputs": [
    {
     "name": "stdout",
     "output_type": "stream",
     "text": [
      "First array is:\n",
      " [[1. 1. 1. 1.]\n",
      " [1. 1. 1. 1.]]\n",
      "Second array is:\n",
      " [[0. 0. 0. 0.]\n",
      " [0. 0. 0. 0.]\n",
      " [0. 0. 0. 0.]]\n",
      "Concatenated array is:\n",
      " [[1. 1. 1. 1.]\n",
      " [1. 1. 1. 1.]\n",
      " [0. 0. 0. 0.]\n",
      " [0. 0. 0. 0.]\n",
      " [0. 0. 0. 0.]]\n"
     ]
    }
   ],
   "source": [
    "import numpy as np\n",
    "a=np.ones((2,4))\n",
    "print(\"First array is:\\n\",a)\n",
    "b=np.zeros((3,4))\n",
    "print(\"Second array is:\\n\",b)\n",
    "c=np.concatenate([a,b])\n",
    "print(\"Concatenated array is:\\n\",c)"
   ]
  },
  {
   "cell_type": "code",
   "execution_count": 21,
   "id": "aac77c1d",
   "metadata": {},
   "outputs": [
    {
     "name": "stdout",
     "output_type": "stream",
     "text": [
      "First array is:\n",
      " [[1 2 4]\n",
      " [5 6 7]]\n",
      "\n",
      "data type is int32\n",
      "\n",
      "After changing datatype ,the array is:\n",
      " [[1.+0.j 2.+0.j 4.+0.j]\n",
      " [5.+0.j 6.+0.j 7.+0.j]]\n"
     ]
    }
   ],
   "source": [
    "import numpy as np\n",
    "a=np.array([[1,2,4],[5,6,7]])\n",
    "print(\"First array is:\\n\",a)\n",
    "print(\"\\ndata type is\",a.dtype)\n",
    "b=a.astype(complex)\n",
    "print(\"\\nAfter changing datatype ,the array is:\\n\",b)"
   ]
  },
  {
   "cell_type": "code",
   "execution_count": 38,
   "id": "8578bea7",
   "metadata": {},
   "outputs": [
    {
     "name": "stdout",
     "output_type": "stream",
     "text": [
      "The array is:\n",
      " [0.58937292 0.38379229 0.50001865 0.73802438 0.112956   0.50733631\n",
      " 0.20506082 0.67445669 0.564774   0.99065735]\n"
     ]
    }
   ],
   "source": [
    "import numpy as np\n",
    "a=np.random.rand(10)\n",
    "print(\"The array is:\\n\",a)"
   ]
  },
  {
   "cell_type": "code",
   "execution_count": 37,
   "id": "d8dedbf3",
   "metadata": {},
   "outputs": [
    {
     "name": "stdout",
     "output_type": "stream",
     "text": [
      "The array is:\n",
      " (array([2.  , 2.25, 2.5 , 2.75, 3.  ]), 0.25)\n"
     ]
    }
   ],
   "source": [
    "import numpy as np\n",
    "a=np.linspace(2,3,num=5,retstep=True,dtype=float,endpoint=True)\n",
    "print(\"The array is:\\n\",a)"
   ]
  },
  {
   "cell_type": "code",
   "execution_count": 30,
   "id": "efd8131a",
   "metadata": {},
   "outputs": [
    {
     "name": "stdout",
     "output_type": "stream",
     "text": [
      "The Result table is:\n",
      "       Name  Math  stat  DM\n",
      "0    priya    90    80  90\n",
      "1   hridoy    91    81  91\n",
      "2   tanvir    92    82  92\n",
      "3  susmita    91    81  93\n",
      "\n",
      "Minimum values are:\n",
      " Name    hridoy\n",
      "Math        90\n",
      "stat        80\n",
      "DM          90\n",
      "dtype: object\n"
     ]
    }
   ],
   "source": [
    "import pandas as pd\n",
    "result={'Name':['priya','hridoy','tanvir','susmita'],\n",
    "        'Math':[90,91,92,91],\n",
    "        'stat':[80,81,82,81],\n",
    "        'DM':[90,91,92,93]}\n",
    "df=pd.DataFrame(result)\n",
    "print(\"The Result table is:\\n\",df)\n",
    "print(\"\\nMinimum values are:\\n\",df.min())"
   ]
  },
  {
   "cell_type": "code",
   "execution_count": 35,
   "id": "44fcf15b",
   "metadata": {},
   "outputs": [
    {
     "name": "stdout",
     "output_type": "stream",
     "text": [
      "The Result table is:\n",
      "      Name  roll  Math  stat  DM\n",
      "0    priya     1    90    80  90\n",
      "1   hridoy     2    91    81  91\n",
      "2   tanvir     3    92    82  92\n",
      "3  susmita     4    91    81  93\n",
      "\n",
      "The Result table for susmita:\n",
      "      Name  roll  Math  stat  DM\n",
      "3  susmita     4    91    81  93\n",
      "\n",
      "Minimum marks obtain by susmita:\n",
      "roll     4\n",
      "Math    91\n",
      "stat    81\n",
      "DM      93\n",
      "dtype: int64\n"
     ]
    }
   ],
   "source": [
    "import pandas as pd\n",
    "result={'Name':['priya','hridoy','tanvir','susmita'],\n",
    "        'roll':[1,2,3,4],\n",
    "        'Math':[90,91,92,91],\n",
    "        'stat':[80,81,82,81],\n",
    "        'DM':[90,91,92,93]}\n",
    "df=pd.DataFrame(result)\n",
    "print(\"The Result table is:\")\n",
    "print(df)\n",
    "df2=df[df.Name=='susmita']\n",
    "print(\"\\nThe Result table for susmita:\")\n",
    "print(df2)\n",
    "print(\"\\nMinimum marks obtain by susmita:\")\n",
    "print(df2.min(numeric_only=True))"
   ]
  },
  {
   "cell_type": "code",
   "execution_count": 27,
   "id": "ae129a4d",
   "metadata": {},
   "outputs": [
    {
     "name": "stdout",
     "output_type": "stream",
     "text": [
      "The Result table is:\n",
      "      Name  roll  Math  stat  DM\n",
      "0    priya     1    90    80  90\n",
      "1   hridoy     2    91    81  91\n",
      "2   tanvir     3    92    82  92\n",
      "3  susmita     4    91    81  93\n",
      "\n",
      "Maximum marks of each student is:\n",
      "0    90\n",
      "1    91\n",
      "2    92\n",
      "3    93\n",
      "dtype: int64\n"
     ]
    }
   ],
   "source": [
    "import pandas as pd\n",
    "result={'Name':['priya','priya','hridoy','hridoy','tanvir','tanvir','susmita','susmita'],\n",
    "        'ut':[1,2,1,2,1,2,1,2],\n",
    "        'Math':[90,91,92,91,94,92,90,91],\n",
    "        'stat':[80,81,82,81,83,82,81,80],\n",
    "        'DM':[90,91,92,93,91,92,93,91]}\n",
    "df=pd.DataFrame(result)\n",
    "print(\"The Result table is:\")\n",
    "print(df)\n",
    "print(\"\\nMaximum marks of each student is:\")\n",
    "print(df.max(numeric_only=True,axis=1))"
   ]
  },
  {
   "cell_type": "code",
   "execution_count": 36,
   "id": "cfe1e5e5",
   "metadata": {},
   "outputs": [
    {
     "name": "stdout",
     "output_type": "stream",
     "text": [
      "The Result table is:\n",
      "      Name  ut  Math  stat  DM\n",
      "0    priya   1    90    80  90\n",
      "1    priya   2    91    81  91\n",
      "2   hridoy   1    92    82  92\n",
      "3   hridoy   2    91    81  93\n",
      "4   tanvir   1    94    83  91\n",
      "5   tanvir   2    92    82  92\n",
      "6  susmita   1    90    81  93\n",
      "7  susmita   2    91    80  91\n"
     ]
    }
   ],
   "source": [
    "import pandas as pd\n",
    "result={'Name':['priya','priya','hridoy','hridoy','tanvir','tanvir','susmita','susmita'],\n",
    "        'ut':[1,2,1,2,1,2,1,2],\n",
    "        'Math':[90,91,92,91,94,92,90,91],\n",
    "        'stat':[80,81,82,81,83,82,81,80],\n",
    "        'DM':[90,91,92,93,91,92,93,91]}\n",
    "df=pd.DataFrame(result)\n",
    "print(\"The Result table is:\")\n",
    "print(df)"
   ]
  },
  {
   "cell_type": "code",
   "execution_count": 1,
   "id": "953ffef1",
   "metadata": {},
   "outputs": [
    {
     "name": "stdout",
     "output_type": "stream",
     "text": [
      "The Result table is:\n",
      "      Name  ut  Math  stat  DM\n",
      "0    priya   1    90    80  90\n",
      "1    priya   2    91    81  91\n",
      "2   hridoy   1    92    82  92\n",
      "3   hridoy   2    91    81  93\n",
      "4   tanvir   1    94    83  91\n",
      "5   tanvir   2    92    82  92\n",
      "6  susmita   1    90    81  93\n",
      "7  susmita   2    91    80  91\n",
      "\n",
      "Maximum values are:\n",
      " ut       2\n",
      "Math    92\n",
      "stat    82\n",
      "DM      93\n",
      "dtype: int64\n"
     ]
    }
   ],
   "source": [
    "import pandas as pd\n",
    "result={'Name':['priya','priya','hridoy','hridoy','tanvir','tanvir','susmita','susmita'],\n",
    "        'ut':[1,2,1,2,1,2,1,2],\n",
    "        'Math':[90,91,92,91,94,92,90,91],\n",
    "        'stat':[80,81,82,81,83,82,81,80],\n",
    "        'DM':[90,91,92,93,91,92,93,91]}\n",
    "df=pd.DataFrame(result)\n",
    "print(\"The Result table is:\")\n",
    "print(df)\n",
    "\n",
    "print(\"\\nMaximum values are:\\n\",df[df['ut']==2].max(numeric_only=True))"
   ]
  },
  {
   "cell_type": "code",
   "execution_count": 41,
   "id": "be201673",
   "metadata": {},
   "outputs": [
    {
     "name": "stdout",
     "output_type": "stream",
     "text": [
      "The Result table is:\n",
      "      Name  ut  Math  stat  DM\n",
      "0    priya   1    90    80  90\n",
      "1    priya   2    91    81  91\n",
      "2   hridoy   1    92    82  92\n",
      "3   hridoy   2    91    81  93\n",
      "4   tanvir   1    94    83  91\n",
      "5   tanvir   2    92    82  92\n",
      "6  susmita   1    90    81  93\n",
      "7  susmita   2    91    80  91\n",
      "\n",
      "Maximum values are:\n",
      " 0    90\n",
      "1    91\n",
      "2    92\n",
      "3    93\n",
      "4    94\n",
      "5    92\n",
      "6    93\n",
      "7    91\n",
      "dtype: int64\n"
     ]
    }
   ],
   "source": [
    "import pandas as pd\n",
    "result={'Name':['priya','priya','hridoy','hridoy','tanvir','tanvir','susmita','susmita'],\n",
    "        'ut':[1,2,1,2,1,2,1,2],\n",
    "        'Math':[90,91,92,91,94,92,90,91],\n",
    "        'stat':[80,81,82,81,83,82,81,80],\n",
    "        'DM':[90,91,92,93,91,92,93,91]}\n",
    "df=pd.DataFrame(result)\n",
    "print(\"The Result table is:\")\n",
    "print(df)\n",
    "print(\"\\nMaximum values are:\\n\",df.max(numeric_only=True,axis=1))"
   ]
  },
  {
   "cell_type": "code",
   "execution_count": 50,
   "id": "bb8ee1fe",
   "metadata": {},
   "outputs": [
    {
     "name": "stdout",
     "output_type": "stream",
     "text": [
      "\n",
      "The Result of Susmita:\n",
      "      Name  ut  Math  Stat  DM\n",
      "6  susmita   1    90    81  93\n",
      "7  susmita   2    91    80  91\n",
      "\n",
      "Minimum values are:\n",
      " Math    90\n",
      "Stat    80\n",
      "DM      91\n",
      "dtype: int64\n"
     ]
    }
   ],
   "source": [
    "import pandas as pd\n",
    "result={'Name':['priya','priya','hridoy','hridoy','tanvir','tanvir','susmita','susmita'],\n",
    "        'ut':[1,2,1,2,1,2,1,2],\n",
    "        'Math':[90,91,92,91,94,92,90,91],\n",
    "        'Stat':[80,81,82,81,83,82,81,80],\n",
    "        'DM':[90,91,92,93,91,92,93,91]}\n",
    "df=pd.DataFrame(result)\n",
    "df2=df.loc[df.Name=='susmita']\n",
    "print(\"\\nThe Result of Susmita:\")\n",
    "print(df2)\n",
    "print('\\nMinimum values are:\\n',df2[['Math','Stat','DM']].min(numeric_only=True))"
   ]
  },
  {
   "cell_type": "code",
   "execution_count": 51,
   "id": "b201e12a",
   "metadata": {},
   "outputs": [
    {
     "name": "stdout",
     "output_type": "stream",
     "text": [
      "\n",
      "The Result of Susmita:\n",
      "      Name  ut  Math  Stat  DM\n",
      "6  susmita   1    90    81  93\n",
      "7  susmita   2    91    80  91\n",
      "\n",
      "Total marks in each subject is:\n",
      " Math    181\n",
      "Stat    161\n",
      "DM      184\n",
      "dtype: int64\n"
     ]
    }
   ],
   "source": [
    "import pandas as pd\n",
    "result={'Name':['priya','priya','hridoy','hridoy','tanvir','tanvir','susmita','susmita'],\n",
    "        'ut':[1,2,1,2,1,2,1,2],\n",
    "        'Math':[90,91,92,91,94,92,90,91],\n",
    "        'Stat':[80,81,82,81,83,82,81,80],\n",
    "        'DM':[90,91,92,93,91,92,93,91]}\n",
    "df=pd.DataFrame(result)\n",
    "df2=df.loc[df.Name=='susmita']\n",
    "print(\"\\nThe Result of Susmita:\")\n",
    "print(df2)\n",
    "print('\\nTotal marks in each subject is:\\n',df2[['Math','Stat','DM']].sum())"
   ]
  },
  {
   "cell_type": "code",
   "execution_count": 52,
   "id": "1428a30d",
   "metadata": {},
   "outputs": [
    {
     "name": "stdout",
     "output_type": "stream",
     "text": [
      "The Result table is:\n",
      "      Name  ut  Math  Stat  DM\n",
      "0    priya   1    90    80  90\n",
      "1    priya   2    91    81  91\n",
      "2   hridoy   1    92    82  92\n",
      "3   hridoy   2    91    81  93\n",
      "4   tanvir   1    94    83  91\n",
      "5   tanvir   2    92    82  92\n",
      "6  susmita   1    90    81  93\n",
      "7  susmita   2    91    80  91\n",
      "\n",
      "Number of values in each row is:\n",
      " 0    5\n",
      "1    5\n",
      "2    5\n",
      "3    5\n",
      "4    5\n",
      "5    5\n",
      "6    5\n",
      "7    5\n",
      "dtype: int64\n"
     ]
    }
   ],
   "source": [
    "import pandas as pd\n",
    "result={'Name':['priya','priya','hridoy','hridoy','tanvir','tanvir','susmita','susmita'],\n",
    "        'ut':[1,2,1,2,1,2,1,2],\n",
    "        'Math':[90,91,92,91,94,92,90,91],\n",
    "        'Stat':[80,81,82,81,83,82,81,80],\n",
    "        'DM':[90,91,92,93,91,92,93,91]}\n",
    "df=pd.DataFrame(result)\n",
    "print(\"The Result table is:\")\n",
    "print(df)\n",
    "print('\\nNumber of values in each row is:\\n',df.count(axis=1))"
   ]
  },
  {
   "cell_type": "code",
   "execution_count": 55,
   "id": "b527f6e2",
   "metadata": {},
   "outputs": [
    {
     "name": "stdout",
     "output_type": "stream",
     "text": [
      "\n",
      "The Result of math in ut 1:\n",
      "0    90\n",
      "2    92\n",
      "4    94\n",
      "6    90\n",
      "Name: Math, dtype: int64\n",
      "\n",
      "Median of math in ut 1:\n",
      " 91.0\n"
     ]
    }
   ],
   "source": [
    "import pandas as pd\n",
    "result={'Name':['priya','priya','hridoy','hridoy','tanvir','tanvir','susmita','susmita'],\n",
    "        'ut':[1,2,1,2,1,2,1,2],\n",
    "        'Math':[90,91,92,91,94,92,90,91],\n",
    "        'Stat':[80,81,82,81,83,82,81,80],\n",
    "        'DM':[90,91,92,93,91,92,93,91]}\n",
    "df=pd.DataFrame(result)\n",
    "df1=df['Math']\n",
    "df2=df1[df.ut==1]\n",
    "print(\"\\nThe Result of math in ut 1:\")\n",
    "print(df2)\n",
    "print('\\nMedian of math in ut 1:\\n',df2.median())"
   ]
  },
  {
   "cell_type": "code",
   "execution_count": 56,
   "id": "be9b20c5",
   "metadata": {},
   "outputs": [
    {
     "name": "stdout",
     "output_type": "stream",
     "text": [
      "\n",
      "The Result of math:\n",
      "0    90\n",
      "1    91\n",
      "2    92\n",
      "3    91\n",
      "4    94\n",
      "5    92\n",
      "6    90\n",
      "7    91\n",
      "Name: Math, dtype: int64\n",
      "\n",
      "Mode value of math:\n",
      " 0    91\n",
      "Name: Math, dtype: int64\n"
     ]
    }
   ],
   "source": [
    "import pandas as pd\n",
    "result={'Name':['priya','priya','hridoy','hridoy','tanvir','tanvir','susmita','susmita'],\n",
    "        'ut':[1,2,1,2,1,2,1,2],\n",
    "        'Math':[90,91,92,91,94,92,90,91],\n",
    "        'Stat':[80,81,82,81,83,82,81,80],\n",
    "        'DM':[90,91,92,93,91,92,93,91]}\n",
    "df=pd.DataFrame(result)\n",
    "df1=df['Math']\n",
    "print(\"\\nThe Result of math:\")\n",
    "print(df1)\n",
    "print('\\nMode value of math:\\n',df1.mode())"
   ]
  },
  {
   "cell_type": "code",
   "execution_count": 61,
   "id": "9c5e589b",
   "metadata": {},
   "outputs": [
    {
     "name": "stdout",
     "output_type": "stream",
     "text": [
      "\n",
      "The Result of math:\n",
      "0    90\n",
      "1    91\n",
      "2    92\n",
      "3    91\n",
      "4    94\n",
      "5    92\n",
      "6    90\n",
      "7    91\n",
      "Name: Math, dtype: int64\n",
      "\n",
      "1st quartile value: 90.75\n",
      "2nd quartile value or median: 91.0\n",
      "3rd quartile value: 92.0\n"
     ]
    }
   ],
   "source": [
    "import pandas as pd\n",
    "result={'Name':['priya','priya','hridoy','hridoy','tanvir','tanvir','susmita','susmita'],\n",
    "        'ut':[1,2,1,2,1,2,1,2],\n",
    "        'Math':[90,91,92,91,94,92,90,91],\n",
    "        'Stat':[80,81,82,81,83,82,81,80],\n",
    "        'DM':[90,91,92,93,91,92,93,91]}\n",
    "df=pd.DataFrame(result)\n",
    "df1=df['Math']\n",
    "print(\"\\nThe Result of math:\")\n",
    "print(df1)\n",
    "print('\\n1st quartile value:',df1.quantile(q=.25))\n",
    "print('2nd quartile value or median:',df1.quantile())\n",
    "print('3rd quartile value:',df1.quantile(q=.75))"
   ]
  },
  {
   "cell_type": "code",
   "execution_count": 66,
   "id": "98ea4b51",
   "metadata": {},
   "outputs": [
    {
     "name": "stdout",
     "output_type": "stream",
     "text": [
      "\n",
      "The Result of all subject:\n",
      "   Math  Stat  DM\n",
      "0    90    80  90\n",
      "1    91    81  91\n",
      "2    92    82  92\n",
      "3    91    81  93\n",
      "4    94    83  91\n",
      "5    92    82  92\n",
      "6    90    81  93\n",
      "7    91    80  91\n",
      "\n",
      "1st quartile value:\n",
      "       Math   Stat     DM\n",
      "0.25  90.75  80.75  91.00\n",
      "0.75  92.00  82.00  92.25\n"
     ]
    }
   ],
   "source": [
    "import pandas as pd\n",
    "result={'Name':['priya','priya','hridoy','hridoy','tanvir','tanvir','susmita','susmita'],\n",
    "        'ut':[1,2,1,2,1,2,1,2],\n",
    "        'Math':[90,91,92,91,94,92,90,91],\n",
    "        'Stat':[80,81,82,81,83,82,81,80],\n",
    "        'DM':[90,91,92,93,91,92,93,91]}\n",
    "df=pd.DataFrame(result)\n",
    "df1=df[['Math','Stat','DM']]\n",
    "print(\"\\nThe Result of all subject:\")\n",
    "print(df1)\n",
    "print('\\n1st quartile value:')\n",
    "print(df1.quantile([.25,.75]))"
   ]
  },
  {
   "cell_type": "code",
   "execution_count": 68,
   "id": "c6886b24",
   "metadata": {},
   "outputs": [
    {
     "name": "stdout",
     "output_type": "stream",
     "text": [
      "\n",
      "The Result of math:\n",
      "0    90\n",
      "1    91\n",
      "2    92\n",
      "3    91\n",
      "4    94\n",
      "5    92\n",
      "6    90\n",
      "7    91\n",
      "Name: Math, dtype: int64\n",
      "\n",
      "standard deviation: 1.3024701806293193\n"
     ]
    }
   ],
   "source": [
    "import pandas as pd\n",
    "result={'Name':['priya','priya','hridoy','hridoy','tanvir','tanvir','susmita','susmita'],\n",
    "        'ut':[1,2,1,2,1,2,1,2],\n",
    "        'Math':[90,91,92,91,94,92,90,91],\n",
    "        'Stat':[80,81,82,81,83,82,81,80],\n",
    "        'DM':[90,91,92,93,91,92,93,91]}\n",
    "df=pd.DataFrame(result)\n",
    "df1=df['Math']\n",
    "print(\"\\nThe Result of math:\")\n",
    "print(df1)\n",
    "print('\\nstandard deviation:',df1.std())"
   ]
  },
  {
   "cell_type": "code",
   "execution_count": 73,
   "id": "38de542d",
   "metadata": {},
   "outputs": [
    {
     "name": "stdout",
     "output_type": "stream",
     "text": [
      "\n",
      "The Result table:\n",
      "       Name  ut  Math  Stat  DM\n",
      "0    priya   1    90    80  90\n",
      "1    priya   2    91    81  91\n",
      "2   hridoy   1    92    82  92\n",
      "3   hridoy   2    91    81  93\n",
      "4   tanvir   1    94    83  91\n",
      "5   tanvir   2    92    82  92\n",
      "6  susmita   1    90    81  93\n",
      "7  susmita   2    91    80  91\n",
      "\n",
      "statistical values:\n",
      "              ut      Math       Stat        DM\n",
      "count  8.000000   8.00000   8.000000   8.00000\n",
      "mean   1.500000  91.37500  81.250000  91.62500\n",
      "std    0.534522   1.30247   1.035098   1.06066\n",
      "min    1.000000  90.00000  80.000000  90.00000\n",
      "25%    1.000000  90.75000  80.750000  91.00000\n",
      "50%    1.500000  91.00000  81.000000  91.50000\n",
      "75%    2.000000  92.00000  82.000000  92.25000\n",
      "max    2.000000  94.00000  83.000000  93.00000\n"
     ]
    }
   ],
   "source": [
    "import pandas as pd\n",
    "result={'Name':['priya','priya','hridoy','hridoy','tanvir','tanvir','susmita','susmita'],\n",
    "        'ut':[1,2,1,2,1,2,1,2],\n",
    "        'Math':[90,91,92,91,94,92,90,91],\n",
    "        'Stat':[80,81,82,81,83,82,81,80],\n",
    "        'DM':[90,91,92,93,91,92,93,91]}\n",
    "df=pd.DataFrame(result)\n",
    "print(\"\\nThe Result table:\\n\",df)\n",
    "print('\\nstatistical values:\\n',df.describe())"
   ]
  },
  {
   "cell_type": "code",
   "execution_count": 80,
   "id": "ec25bb0b",
   "metadata": {},
   "outputs": [
    {
     "name": "stdout",
     "output_type": "stream",
     "text": [
      "The Result table is:\n",
      "      Name  ut  Math  stat  DM\n",
      "0    priya   1    90    80  90\n",
      "1    priya   2    91    81  91\n",
      "2   hridoy   1    92    82  92\n",
      "3   hridoy   2    91    81  93\n",
      "4   tanvir   1    94    83  91\n",
      "5   tanvir   2    92    82  92\n",
      "6  susmita   1    90    81  93\n",
      "7  susmita   2    91    80  91\n",
      "\n",
      "values are:\n",
      "          Name  ut  Math  stat  DM\n",
      "max    tanvir   2    94    83  93\n",
      "min    hridoy   1    90    80  90\n",
      "count       8   8     8     8   8\n"
     ]
    }
   ],
   "source": [
    "import pandas as pd\n",
    "result={'Name':['priya','priya','hridoy','hridoy','tanvir','tanvir','susmita','susmita'],\n",
    "        'ut':[1,2,1,2,1,2,1,2],\n",
    "        'Math':[90,91,92,91,94,92,90,91],\n",
    "        'stat':[80,81,82,81,83,82,81,80],\n",
    "        'DM':[90,91,92,93,91,92,93,91]}\n",
    "df=pd.DataFrame(result)\n",
    "print(\"The Result table is:\")\n",
    "print(df)\n",
    "print(\"\\nvalues are:\\n\",df.aggregate(['max','min','count']))"
   ]
  },
  {
   "cell_type": "code",
   "execution_count": 88,
   "id": "f8e2470b",
   "metadata": {},
   "outputs": [
    {
     "name": "stdout",
     "output_type": "stream",
     "text": [
      "The Result table is:\n",
      "      Name  ut  Math  stat  DM\n",
      "0    priya   1    90    80  90\n",
      "1    priya   2    91    81  91\n",
      "2   hridoy   1    92    82  92\n",
      "3   hridoy   2    91    81  93\n",
      "4   tanvir   1    94    83  91\n",
      "5   tanvir   2    92    82  92\n",
      "6  susmita   1    90    81  93\n",
      "7  susmita   2    91    80  91\n",
      "\n",
      "values are:\n",
      "    max  min  count  sum\n",
      "0   90   90      2  180\n",
      "1   91   91      2  182\n",
      "2   92   92      2  184\n",
      "3   93   91      2  184\n",
      "4   94   91      2  185\n",
      "5   92   92      2  184\n",
      "6   93   90      2  183\n",
      "7   91   91      2  182\n"
     ]
    }
   ],
   "source": [
    "import pandas as pd\n",
    "result={'Name':['priya','priya','hridoy','hridoy','tanvir','tanvir','susmita','susmita'],\n",
    "        'ut':[1,2,1,2,1,2,1,2],\n",
    "        'Math':[90,91,92,91,94,92,90,91],\n",
    "        'stat':[80,81,82,81,83,82,81,80],\n",
    "        'DM':[90,91,92,93,91,92,93,91]}\n",
    "df=pd.DataFrame(result)\n",
    "print(\"The Result table is:\")\n",
    "print(df)\n",
    "print(\"\\nvalues are:\\n\",df[['Math','DM']].aggregate(['max','min','count','sum'],axis=1))"
   ]
  },
  {
   "cell_type": "code",
   "execution_count": 91,
   "id": "cc026f8b",
   "metadata": {},
   "outputs": [
    {
     "name": "stdout",
     "output_type": "stream",
     "text": [
      "The Result table is:\n",
      "      Name  ut  Math  stat  DM\n",
      "0    priya   1    90    80  90\n",
      "1    priya   2    91    81  91\n",
      "2   hridoy   1    92    82  92\n",
      "3   hridoy   2    91    81  93\n",
      "4   tanvir   1    94    83  91\n",
      "5   tanvir   2    92    82  92\n",
      "6  susmita   1    90    81  93\n",
      "7  susmita   2    91    80  91\n",
      "\n",
      "values are:\n",
      "       Name  ut  Math  stat  DM\n",
      "3   hridoy   2    91    81  93\n",
      "2   hridoy   1    92    82  92\n",
      "0    priya   1    90    80  90\n",
      "1    priya   2    91    81  91\n",
      "6  susmita   1    90    81  93\n",
      "7  susmita   2    91    80  91\n",
      "5   tanvir   2    92    82  92\n",
      "4   tanvir   1    94    83  91\n"
     ]
    }
   ],
   "source": [
    "import pandas as pd\n",
    "result={'Name':['priya','priya','hridoy','hridoy','tanvir','tanvir','susmita','susmita'],\n",
    "        'ut':[1,2,1,2,1,2,1,2],\n",
    "        'Math':[90,91,92,91,94,92,90,91],\n",
    "        'stat':[80,81,82,81,83,82,81,80],\n",
    "        'DM':[90,91,92,93,91,92,93,91]}\n",
    "df=pd.DataFrame(result)\n",
    "print(\"The Result table is:\")\n",
    "print(df)\n",
    "print(\"\\nvalues are:\\n\",df.sort_values(by=['Name','Math'],ascending=True))"
   ]
  },
  {
   "cell_type": "code",
   "execution_count": 96,
   "id": "77893804",
   "metadata": {},
   "outputs": [
    {
     "name": "stdout",
     "output_type": "stream",
     "text": [
      "The Result table is:\n",
      "      Name  ut  Math  stat  DM\n",
      "0    priya   1    90    80  90\n",
      "1    priya   2    91    81  91\n",
      "2   hridoy   1    92    82  92\n",
      "3   hridoy   2    91    81  93\n",
      "4   tanvir   1    94    83  91\n",
      "5   tanvir   2    92    82  92\n",
      "6  susmita   1    90    81  93\n",
      "7  susmita   2    91    80  91\n",
      "         ut  Math  stat  DM\n",
      "Name                       \n",
      "hridoy    1    92    82  92\n",
      "priya     1    90    80  90\n",
      "susmita   1    90    81  93\n",
      "tanvir    1    94    83  91\n"
     ]
    }
   ],
   "source": [
    "import pandas as pd\n",
    "result={'Name':['priya','priya','hridoy','hridoy','tanvir','tanvir','susmita','susmita'],\n",
    "        'ut':[1,2,1,2,1,2,1,2],\n",
    "        'Math':[90,91,92,91,94,92,90,91],\n",
    "        'stat':[80,81,82,81,83,82,81,80],\n",
    "        'DM':[90,91,92,93,91,92,93,91]}\n",
    "df=pd.DataFrame(result)\n",
    "print(\"The Result table is:\")\n",
    "print(df)\n",
    "g1=df.groupby('Name')\n",
    "print(g1.first())"
   ]
  },
  {
   "cell_type": "code",
   "execution_count": 98,
   "id": "2423e9a4",
   "metadata": {},
   "outputs": [
    {
     "name": "stdout",
     "output_type": "stream",
     "text": [
      "      Name  ut  Math  stat  DM\n",
      "6  susmita   1    90    81  93\n",
      "7  susmita   2    91    80  91\n"
     ]
    }
   ],
   "source": [
    "import pandas as pd\n",
    "result={'Name':['priya','priya','hridoy','hridoy','tanvir','tanvir','susmita','susmita'],\n",
    "        'ut':[1,2,1,2,1,2,1,2],\n",
    "        'Math':[90,91,92,91,94,92,90,91],\n",
    "        'stat':[80,81,82,81,83,82,81,80],\n",
    "        'DM':[90,91,92,93,91,92,93,91]}\n",
    "df=pd.DataFrame(result)\n",
    "g1=df.groupby('Name')\n",
    "print(g1.get_group('susmita'))"
   ]
  },
  {
   "cell_type": "code",
   "execution_count": 99,
   "id": "41a99930",
   "metadata": {},
   "outputs": [
    {
     "data": {
      "text/plain": [
       "{'hridoy': [2, 3], 'priya': [0, 1], 'susmita': [6, 7], 'tanvir': [4, 5]}"
      ]
     },
     "execution_count": 99,
     "metadata": {},
     "output_type": "execute_result"
    }
   ],
   "source": [
    "g1.groups"
   ]
  },
  {
   "cell_type": "code",
   "execution_count": 102,
   "id": "a29935ac",
   "metadata": {},
   "outputs": [
    {
     "name": "stdout",
     "output_type": "stream",
     "text": [
      "{'hridoy': [2, 3], 'priya': [0, 1], 'susmita': [6, 7], 'tanvir': [4, 5]}\n"
     ]
    }
   ],
   "source": [
    "import pandas as pd\n",
    "result={'Name':['priya','priya','hridoy','hridoy','tanvir','tanvir','susmita','susmita'],\n",
    "        'ut':[1,2,1,2,1,2,1,2],\n",
    "        'Math':[90,91,92,91,94,92,90,91],\n",
    "        'stat':[80,81,82,81,83,82,81,80],\n",
    "        'DM':[90,91,92,93,91,92,93,91]}\n",
    "df=pd.DataFrame(result)\n",
    "g1=df.groupby('Name')\n",
    "print(g1.groups)"
   ]
  },
  {
   "cell_type": "code",
   "execution_count": 103,
   "id": "ebb84199",
   "metadata": {},
   "outputs": [
    {
     "name": "stdout",
     "output_type": "stream",
     "text": [
      "Name\n",
      "hridoy     2\n",
      "priya      2\n",
      "susmita    2\n",
      "tanvir     2\n",
      "dtype: int64\n"
     ]
    }
   ],
   "source": [
    "import pandas as pd\n",
    "result={'Name':['priya','priya','hridoy','hridoy','tanvir','tanvir','susmita','susmita'],\n",
    "        'ut':[1,2,1,2,1,2,1,2],\n",
    "        'Math':[90,91,92,91,94,92,90,91],\n",
    "        'stat':[80,81,82,81,83,82,81,80],\n",
    "        'DM':[90,91,92,93,91,92,93,91]}\n",
    "df=pd.DataFrame(result)\n",
    "g1=df.groupby('Name')\n",
    "print(g1.size())"
   ]
  },
  {
   "cell_type": "code",
   "execution_count": 105,
   "id": "8255ff3b",
   "metadata": {},
   "outputs": [
    {
     "name": "stdout",
     "output_type": "stream",
     "text": [
      "            Math  stat  DM\n",
      "Name    ut                \n",
      "hridoy  1     92    82  92\n",
      "        2     91    81  93\n",
      "priya   1     90    80  90\n",
      "        2     91    81  91\n",
      "susmita 1     90    81  93\n",
      "        2     91    80  91\n",
      "tanvir  1     94    83  91\n",
      "        2     92    82  92\n"
     ]
    }
   ],
   "source": [
    "import pandas as pd\n",
    "result={'Name':['priya','priya','hridoy','hridoy','tanvir','tanvir','susmita','susmita'],\n",
    "        'ut':[1,2,1,2,1,2,1,2],\n",
    "        'Math':[90,91,92,91,94,92,90,91],\n",
    "        'stat':[80,81,82,81,83,82,81,80],\n",
    "        'DM':[90,91,92,93,91,92,93,91]}\n",
    "df=pd.DataFrame(result)\n",
    "g1=df.groupby(['Name','ut'])\n",
    "print(g1.first())"
   ]
  },
  {
   "cell_type": "code",
   "execution_count": 110,
   "id": "dc5766ff",
   "metadata": {},
   "outputs": [
    {
     "name": "stdout",
     "output_type": "stream",
     "text": [
      "     mean  max  min       var       std\n",
      "ut                                     \n",
      "1   91.50   94   90  3.666667  1.914854\n",
      "2   91.25   92   91  0.250000  0.500000\n"
     ]
    }
   ],
   "source": [
    "import pandas as pd\n",
    "result={'Name':['priya','priya','hridoy','hridoy','tanvir','tanvir','susmita','susmita'],\n",
    "        'ut':[1,2,1,2,1,2,1,2],\n",
    "        'Math':[90,91,92,91,94,92,90,91],\n",
    "        'stat':[80,81,82,81,83,82,81,80],\n",
    "        'DM':[90,91,92,93,91,92,93,91]}\n",
    "df=pd.DataFrame(result)\n",
    "g1=df.groupby(['ut'])\n",
    "print(g1['Math'].aggregate(['mean','max','min','var','std']))"
   ]
  },
  {
   "cell_type": "code",
   "execution_count": 112,
   "id": "f861db4f",
   "metadata": {},
   "outputs": [
    {
     "name": "stdout",
     "output_type": "stream",
     "text": [
      "\n",
      "The Result of unit test 2:\n",
      "      Name  ut  Math  stat  DM\n",
      "1    priya   2    91    81  91\n",
      "3   hridoy   2    91    81  93\n",
      "5   tanvir   2    92    82  92\n",
      "7  susmita   2    91    80  91 \n",
      "\n",
      "   index     Name  ut  Math  stat  DM\n",
      "0      1    priya   2    91    81  91\n",
      "1      3   hridoy   2    91    81  93\n",
      "2      5   tanvir   2    92    82  92\n",
      "3      7  susmita   2    91    80  91\n"
     ]
    }
   ],
   "source": [
    "import pandas as pd\n",
    "result={'Name':['priya','priya','hridoy','hridoy','tanvir','tanvir','susmita','susmita'],\n",
    "        'ut':[1,2,1,2,1,2,1,2],\n",
    "        'Math':[90,91,92,91,94,92,90,91],\n",
    "        'stat':[80,81,82,81,83,82,81,80],\n",
    "        'DM':[90,91,92,93,91,92,93,91]}\n",
    "df=pd.DataFrame(result)\n",
    "df2=df[df.ut==2]\n",
    "print(\"\\nThe Result of unit test 2:\")\n",
    "print(df2,\"\\n\")\n",
    "df2.reset_index(inplace=True)\n",
    "print(df2)"
   ]
  },
  {
   "cell_type": "code",
   "execution_count": 126,
   "id": "1a45fdca",
   "metadata": {},
   "outputs": [
    {
     "name": "stdout",
     "output_type": "stream",
     "text": [
      "         ut  Math  stat  DM\n",
      "Name                       \n",
      "priya     2    91    81  91\n",
      "hridoy    2    91    81  93\n",
      "tanvir    2    92    82  92\n",
      "susmita   2    91    80  91\n",
      "      Name  ut  Math  stat  DM\n",
      "0    priya   2    91    81  91\n",
      "1   hridoy   2    91    81  93\n",
      "2   tanvir   2    92    82  92\n",
      "3  susmita   2    91    80  91\n"
     ]
    }
   ],
   "source": [
    "import pandas as pd\n",
    "result={'Name':['priya','priya','hridoy','hridoy','tanvir','tanvir','susmita','susmita'],\n",
    "        'ut':[1,2,1,2,1,2,1,2],\n",
    "        'Math':[90,91,92,91,94,92,90,91],\n",
    "        'stat':[80,81,82,81,83,82,81,80],\n",
    "        'DM':[90,91,92,93,91,92,93,91]}\n",
    "df=pd.DataFrame(result)\n",
    "df2=df[df.ut==2]\n",
    "df2.set_index('Name',inplace=True)\n",
    "print(df2)\n",
    "df2.reset_index('Name',inplace=True)\n",
    "print(df2)"
   ]
  },
  {
   "cell_type": "code",
   "execution_count": 133,
   "id": "c6baff05",
   "metadata": {},
   "outputs": [
    {
     "name": "stdout",
     "output_type": "stream",
     "text": [
      "   index     Name  ut  Math  stat  DM\n",
      "0      1    priya   2    91    81  91\n",
      "1      3   hridoy   2    91    81  93\n",
      "2      5   tanvir   2    92    82  92\n",
      "3      7  susmita   2    91    80  91\n",
      "      Name  ut  Math  stat  DM\n",
      "0    priya   2    91    81  91\n",
      "1   hridoy   2    91    81  93\n",
      "2   tanvir   2    92    82  92\n",
      "3  susmita   2    91    80  91\n"
     ]
    }
   ],
   "source": [
    "import pandas as pd\n",
    "result={'Name':['priya','priya','hridoy','hridoy','tanvir','tanvir','susmita','susmita'],\n",
    "        'ut':[1,2,1,2,1,2,1,2],\n",
    "        'Math':[90,91,92,91,94,92,90,91],\n",
    "        'stat':[80,81,82,81,83,82,81,80],\n",
    "        'DM':[90,91,92,93,91,92,93,91]}\n",
    "df=pd.DataFrame(result)\n",
    "df2=df[df.ut==2]\n",
    "df2.reset_index(inplace=True)\n",
    "print(df2)\n",
    "print(df2.drop(columns=['index']))\n"
   ]
  },
  {
   "cell_type": "code",
   "execution_count": 10,
   "id": "73abc11c",
   "metadata": {},
   "outputs": [
    {
     "name": "stdout",
     "output_type": "stream",
     "text": [
      "  Store  Year  Total_sales(Rs)  Total_profit(Rs)\n",
      "0    S1  2016            12000              1100\n",
      "1    S4  2016           330000              5500\n",
      "2    S3  2016           420000             21000\n",
      "3    S1  2017            20000             32000\n",
      "4    S2  2017            10000              9000\n",
      "5    S3  2017           450000             45000\n",
      "6    S1  2018            30000              3000\n",
      "7    S2  2018            11000              1900\n",
      "8    S3  2018            89000             23000 \n",
      "\n",
      "      Total_sales(Rs)                    Total_profit(Rs)                  \n",
      "Year             2016      2017     2018             2016     2017     2018\n",
      "Store                                                                      \n",
      "S1            12000.0   20000.0  30000.0           1100.0  32000.0   3000.0\n",
      "S2                NaN   10000.0  11000.0              NaN   9000.0   1900.0\n",
      "S3           420000.0  450000.0  89000.0          21000.0  45000.0  23000.0\n",
      "S4           330000.0       NaN      NaN           5500.0      NaN      NaN\n"
     ]
    }
   ],
   "source": [
    "import pandas as pd\n",
    "data={'Store':['S1','S4','S3','S1','S2','S3','S1','S2','S3'],\n",
    "      'Year':[2016,2016,2016,2017,2017,2017,2018,2018,2018],\n",
    "      'Total_sales(Rs)':[12000,330000,420000,20000,10000,450000,30000, 11000,89000],\n",
    "      'Total_profit(Rs)':[1100,5500,21000,32000,9000,45000,3000,1900,23000]\n",
    "}\n",
    "df=pd.DataFrame(data)\n",
    "print(df,'\\n')\n",
    "pivot2=df.pivot(index='Store',columns='Year',values=['Total_sales(Rs)','Total_profit(Rs)'])\n",
    "print(pivot2)"
   ]
  },
  {
   "cell_type": "code",
   "execution_count": 17,
   "id": "15c5d14d",
   "metadata": {},
   "outputs": [
    {
     "name": "stdout",
     "output_type": "stream",
     "text": [
      "     Item  Color  Price(Rs)  Units_in_stock\n",
      "0     Pen    Red         10              50\n",
      "1     Pen    Red         25              10\n",
      "2  Pencil  Black          7              47\n",
      "3  Pencil  Black          5              34\n",
      "4     Pen   Blue         50              55\n",
      "5     Pen   Blue         20              14\n",
      "         sum               max              mean               len          \n",
      "Color  Black  Blue   Red Black  Blue   Red Black  Blue   Red Black Blue  Red\n",
      "Item                                                                        \n",
      "Pen      NaN  69.0  60.0   NaN  55.0  50.0   NaN  34.5  30.0   NaN  2.0  2.0\n",
      "Pencil  81.0   NaN   NaN  47.0   NaN   NaN  40.5   NaN   NaN   2.0  NaN  NaN\n"
     ]
    }
   ],
   "source": [
    "import pandas as pd\n",
    "import numpy as np\n",
    "data={'Item':['Pen','Pen','Pencil','Pencil','Pen','Pen'],\n",
    "      'Color':['Red','Red','Black','Black','Blue','Blue'],\n",
    "      'Price(Rs)':[10,25,7,5,50,20],\n",
    "      'Units_in_stock':[50,10,47,34,55,14]\n",
    "}\n",
    "df=pd.DataFrame(data)\n",
    "print(df)\n",
    "pivot3=df.pivot_table(index='Item',columns='Color',values='Units_in_stock',aggfunc=[sum,max,np.mean,len])\n",
    "print(pivot3)"
   ]
  },
  {
   "cell_type": "code",
   "execution_count": 31,
   "id": "126fb0d9",
   "metadata": {},
   "outputs": [
    {
     "name": "stdout",
     "output_type": "stream",
     "text": [
      "The Result table is:\n",
      "       Name  ut  Math  Stat    DM\n",
      "0    priya   1  90.0    80  90.0\n",
      "1    priya   2  91.0    81  91.0\n",
      "2   hridoy   1   NaN    82  92.0\n",
      "3   hridoy   2  91.0    81  93.0\n",
      "4   tanvir   1  94.0    83  91.0\n",
      "5   tanvir   2  92.0    82   NaN\n",
      "6  susmita   1  90.0    81  93.0\n",
      "7  susmita   2  91.0    80  91.0\n",
      "New dataframe:\n",
      "       Name  ut  Math  Stat    DM\n",
      "0    priya   1  90.0    80  90.0\n",
      "1    priya   2  91.0    81  91.0\n",
      "2   hridoy   1  91.0    82  92.0\n",
      "3   hridoy   2  91.0    81  93.0\n",
      "4   tanvir   1  94.0    83  91.0\n",
      "5   tanvir   2  92.0    82  93.0\n",
      "6  susmita   1  90.0    81  93.0\n",
      "7  susmita   2  91.0    80  91.0\n"
     ]
    }
   ],
   "source": [
    "import pandas as pd\n",
    "import numpy as np\n",
    "result={'Name':['priya','priya','hridoy','hridoy','tanvir','tanvir','susmita','susmita'],\n",
    "        'ut':[1,2,1,2,1,2,1,2],\n",
    "        'Math':[90,91,np.NaN,91,94,92,90,91],\n",
    "        'Stat':[80,81,82,81,83,82,81,80],\n",
    "        'DM':[90,91,92,93,91,np.NaN,93,91]}\n",
    "df=pd.DataFrame(result)\n",
    "print(\"The Result table is:\\n\",df)\n",
    "df1 = df.fillna(method='bfill')\n",
    "print(\"New dataframe:\\n\",df1)"
   ]
  },
  {
   "cell_type": "code",
   "execution_count": null,
   "id": "aa26d960",
   "metadata": {},
   "outputs": [],
   "source": []
  }
 ],
 "metadata": {
  "kernelspec": {
   "display_name": "Python 3 (ipykernel)",
   "language": "python",
   "name": "python3"
  },
  "language_info": {
   "codemirror_mode": {
    "name": "ipython",
    "version": 3
   },
   "file_extension": ".py",
   "mimetype": "text/x-python",
   "name": "python",
   "nbconvert_exporter": "python",
   "pygments_lexer": "ipython3",
   "version": "3.9.13"
  }
 },
 "nbformat": 4,
 "nbformat_minor": 5
}
