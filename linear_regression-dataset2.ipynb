{
 "cells": [
  {
   "cell_type": "markdown",
   "id": "70e65a65",
   "metadata": {},
   "source": [
    "#### Name : Tanvir Ahammed Hridoy , ID : B180305020\n",
    "#### Name : Susmita Rani Saha , ID : B180305047                            "
   ]
  },
  {
   "cell_type": "markdown",
   "id": "337a1034",
   "metadata": {},
   "source": [
    "# Linear Regression(Salary_dataset.csv) :"
   ]
  },
  {
   "cell_type": "markdown",
   "id": "17a8b21c",
   "metadata": {},
   "source": [
    "## 1. Exploratory Data Analysis\n",
    "\n",
    "We'll load the data into a DataFrame using Pandas:"
   ]
  },
  {
   "cell_type": "code",
   "execution_count": 10,
   "id": "e525a097",
   "metadata": {},
   "outputs": [],
   "source": [
    "import pandas as pd"
   ]
  },
  {
   "cell_type": "markdown",
   "id": "06ba5255",
   "metadata": {},
   "source": [
    "Let's read the CSV file and package it into a DataFrame:"
   ]
  },
  {
   "cell_type": "code",
   "execution_count": 11,
   "id": "3b141071",
   "metadata": {},
   "outputs": [],
   "source": [
    "path_to_file = 'Salary_dataset.csv'\n",
    "df = pd.read_csv(path_to_file)"
   ]
  },
  {
   "cell_type": "markdown",
   "id": "29116a97",
   "metadata": {},
   "source": [
    "Once the data is loaded in, let's take a quick peek at the first 5 values using the head() method:"
   ]
  },
  {
   "cell_type": "code",
   "execution_count": 12,
   "id": "469555c6",
   "metadata": {},
   "outputs": [
    {
     "data": {
      "text/html": [
       "<div>\n",
       "<style scoped>\n",
       "    .dataframe tbody tr th:only-of-type {\n",
       "        vertical-align: middle;\n",
       "    }\n",
       "\n",
       "    .dataframe tbody tr th {\n",
       "        vertical-align: top;\n",
       "    }\n",
       "\n",
       "    .dataframe thead th {\n",
       "        text-align: right;\n",
       "    }\n",
       "</style>\n",
       "<table border=\"1\" class=\"dataframe\">\n",
       "  <thead>\n",
       "    <tr style=\"text-align: right;\">\n",
       "      <th></th>\n",
       "      <th>Unnamed: 0</th>\n",
       "      <th>YearsExperience</th>\n",
       "      <th>Salary</th>\n",
       "    </tr>\n",
       "  </thead>\n",
       "  <tbody>\n",
       "    <tr>\n",
       "      <th>0</th>\n",
       "      <td>0</td>\n",
       "      <td>1.2</td>\n",
       "      <td>39344.0</td>\n",
       "    </tr>\n",
       "    <tr>\n",
       "      <th>1</th>\n",
       "      <td>1</td>\n",
       "      <td>1.4</td>\n",
       "      <td>46206.0</td>\n",
       "    </tr>\n",
       "    <tr>\n",
       "      <th>2</th>\n",
       "      <td>2</td>\n",
       "      <td>1.6</td>\n",
       "      <td>37732.0</td>\n",
       "    </tr>\n",
       "    <tr>\n",
       "      <th>3</th>\n",
       "      <td>3</td>\n",
       "      <td>2.1</td>\n",
       "      <td>43526.0</td>\n",
       "    </tr>\n",
       "    <tr>\n",
       "      <th>4</th>\n",
       "      <td>4</td>\n",
       "      <td>2.3</td>\n",
       "      <td>39892.0</td>\n",
       "    </tr>\n",
       "  </tbody>\n",
       "</table>\n",
       "</div>"
      ],
      "text/plain": [
       "   Unnamed: 0  YearsExperience   Salary\n",
       "0           0              1.2  39344.0\n",
       "1           1              1.4  46206.0\n",
       "2           2              1.6  37732.0\n",
       "3           3              2.1  43526.0\n",
       "4           4              2.3  39892.0"
      ]
     },
     "execution_count": 12,
     "metadata": {},
     "output_type": "execute_result"
    }
   ],
   "source": [
    "df.head()"
   ]
  },
  {
   "cell_type": "markdown",
   "id": "830740cb",
   "metadata": {},
   "source": [
    "We can also check the shape of our dataset via the shape property:"
   ]
  },
  {
   "cell_type": "code",
   "execution_count": 13,
   "id": "ca48954d",
   "metadata": {},
   "outputs": [
    {
     "data": {
      "text/plain": [
       "(30, 3)"
      ]
     },
     "execution_count": 13,
     "metadata": {},
     "output_type": "execute_result"
    }
   ],
   "source": [
    "df.shape"
   ]
  },
  {
   "cell_type": "markdown",
   "id": "5289881a",
   "metadata": {},
   "source": [
    " KEEPING ONLY THE 2 NECESSARY COLUMNS"
   ]
  },
  {
   "cell_type": "code",
   "execution_count": 14,
   "id": "287919be",
   "metadata": {},
   "outputs": [
    {
     "data": {
      "text/html": [
       "<div>\n",
       "<style scoped>\n",
       "    .dataframe tbody tr th:only-of-type {\n",
       "        vertical-align: middle;\n",
       "    }\n",
       "\n",
       "    .dataframe tbody tr th {\n",
       "        vertical-align: top;\n",
       "    }\n",
       "\n",
       "    .dataframe thead th {\n",
       "        text-align: right;\n",
       "    }\n",
       "</style>\n",
       "<table border=\"1\" class=\"dataframe\">\n",
       "  <thead>\n",
       "    <tr style=\"text-align: right;\">\n",
       "      <th></th>\n",
       "      <th>YearsExperience</th>\n",
       "      <th>Salary</th>\n",
       "    </tr>\n",
       "  </thead>\n",
       "  <tbody>\n",
       "    <tr>\n",
       "      <th>0</th>\n",
       "      <td>1.2</td>\n",
       "      <td>39344.0</td>\n",
       "    </tr>\n",
       "    <tr>\n",
       "      <th>1</th>\n",
       "      <td>1.4</td>\n",
       "      <td>46206.0</td>\n",
       "    </tr>\n",
       "    <tr>\n",
       "      <th>2</th>\n",
       "      <td>1.6</td>\n",
       "      <td>37732.0</td>\n",
       "    </tr>\n",
       "    <tr>\n",
       "      <th>3</th>\n",
       "      <td>2.1</td>\n",
       "      <td>43526.0</td>\n",
       "    </tr>\n",
       "    <tr>\n",
       "      <th>4</th>\n",
       "      <td>2.3</td>\n",
       "      <td>39892.0</td>\n",
       "    </tr>\n",
       "  </tbody>\n",
       "</table>\n",
       "</div>"
      ],
      "text/plain": [
       "   YearsExperience   Salary\n",
       "0              1.2  39344.0\n",
       "1              1.4  46206.0\n",
       "2              1.6  37732.0\n",
       "3              2.1  43526.0\n",
       "4              2.3  39892.0"
      ]
     },
     "execution_count": 14,
     "metadata": {},
     "output_type": "execute_result"
    }
   ],
   "source": [
    "df = df[[\"YearsExperience\", \"Salary\"]]\n",
    "df.head()"
   ]
  },
  {
   "cell_type": "markdown",
   "id": "8df800c2",
   "metadata": {},
   "source": [
    "We'll plot one variable on the X-axis and other variable on the Y-axis, to explore relationships between variables is through Scatterplots. "
   ]
  },
  {
   "cell_type": "code",
   "execution_count": 15,
   "id": "11291b38",
   "metadata": {},
   "outputs": [
    {
     "data": {
      "image/png": "[encoded data removed]",
      "text/plain": [
       "<Figure size 640x480 with 1 Axes>"
      ]
     },
     "metadata": {},
     "output_type": "display_data"
    }
   ],
   "source": [
    "df.plot.scatter(x='YearsExperience', y='Salary', title='Scatterplot');"
   ]
  },
  {
   "cell_type": "markdown",
   "id": "dc79c692",
   "metadata": {},
   "source": [
    "The corr() method calculates and displays the correlations between numerical variables in a DataFrame.\n",
    "This time using Seaborn's heatmap() to help us spot the strongest and weaker correlations based on warmer (reds) and cooler (blues) tones:"
   ]
  },
  {
   "cell_type": "code",
   "execution_count": 16,
   "id": "89486f28",
   "metadata": {},
   "outputs": [
    {
     "data": {
      "image/png": "[encoded data removed]",
      "text/plain": [
       "<Figure size 640x480 with 2 Axes>"
      ]
     },
     "metadata": {},
     "output_type": "display_data"
    }
   ],
   "source": [
    "import seaborn as sns \n",
    "correlations=df.corr()\n",
    "sns.heatmap(correlations, annot=True).set(title='Heatmap of Consumption Data - Pearson Correlations');"
   ]
  },
  {
   "cell_type": "markdown",
   "id": "8de44a28",
   "metadata": {},
   "source": [
    "Pandas also ships with a great helper method for statistical summaries, and we can describe() the dataset to get an idea of the mean, maximum, minimum, etc. values of our columns:"
   ]
  },
  {
   "cell_type": "code",
   "execution_count": 17,
   "id": "2a896150",
   "metadata": {},
   "outputs": [
    {
     "name": "stdout",
     "output_type": "stream",
     "text": [
      "       YearsExperience         Salary\n",
      "count        30.000000      30.000000\n",
      "mean          5.413333   76004.000000\n",
      "std           2.837888   27414.429785\n",
      "min           1.200000   37732.000000\n",
      "25%           3.300000   56721.750000\n",
      "50%           4.800000   65238.000000\n",
      "75%           7.800000  100545.750000\n",
      "max          10.600000  122392.000000\n"
     ]
    }
   ],
   "source": [
    "print(df.describe())"
   ]
  },
  {
   "cell_type": "markdown",
   "id": "510c9892",
   "metadata": {},
   "source": [
    "## 2. Data Preprocessing\n",
    "we can divide our data in two arrays - one for the dependent feature and one for the independent, or target feature."
   ]
  },
  {
   "cell_type": "code",
   "execution_count": 19,
   "id": "90ffb84d",
   "metadata": {},
   "outputs": [],
   "source": [
    "y = df['YearsExperience'].values.reshape(-1, 1)\n",
    "X = df['Salary'].values.reshape(-1, 1)"
   ]
  },
  {
   "cell_type": "markdown",
   "id": "918475b4",
   "metadata": {},
   "source": [
    "without reshaping:"
   ]
  },
  {
   "cell_type": "code",
   "execution_count": 21,
   "id": "cb7f3f11",
   "metadata": {},
   "outputs": [
    {
     "name": "stdout",
     "output_type": "stream",
     "text": [
      "[ 39344.  46206.  37732.  43526.  39892.  56643.  60151.  54446.  64446.\n",
      "  57190.  63219.  55795.  56958.  57082.  61112.  67939.  66030.  83089.\n",
      "  81364.  93941.  91739.  98274. 101303. 113813. 109432. 105583. 116970.\n",
      " 112636. 122392. 121873.]\n",
      "(30,)\n"
     ]
    }
   ],
   "source": [
    "print(df['Salary'].values) \n",
    "print(df['Salary'].values.shape)"
   ]
  },
  {
   "cell_type": "markdown",
   "id": "0a83a30b",
   "metadata": {},
   "source": [
    "After reshaping:"
   ]
  },
  {
   "cell_type": "code",
   "execution_count": 22,
   "id": "9e9c1630",
   "metadata": {},
   "outputs": [
    {
     "name": "stdout",
     "output_type": "stream",
     "text": [
      "(30, 1)\n",
      "[[ 39344.]\n",
      " [ 46206.]\n",
      " [ 37732.]\n",
      " [ 43526.]\n",
      " [ 39892.]\n",
      " [ 56643.]\n",
      " [ 60151.]\n",
      " [ 54446.]\n",
      " [ 64446.]\n",
      " [ 57190.]\n",
      " [ 63219.]\n",
      " [ 55795.]\n",
      " [ 56958.]\n",
      " [ 57082.]\n",
      " [ 61112.]\n",
      " [ 67939.]\n",
      " [ 66030.]\n",
      " [ 83089.]\n",
      " [ 81364.]\n",
      " [ 93941.]\n",
      " [ 91739.]\n",
      " [ 98274.]\n",
      " [101303.]\n",
      " [113813.]\n",
      " [109432.]\n",
      " [105583.]\n",
      " [116970.]\n",
      " [112636.]\n",
      " [122392.]\n",
      " [121873.]]\n"
     ]
    }
   ],
   "source": [
    "print(X.shape)\n",
    "print(X)  "
   ]
  },
  {
   "cell_type": "markdown",
   "id": "cb60102b",
   "metadata": {},
   "source": [
    "This is easily achieved through the helper train_test_split() method, which accepts our X and y arrays (also works on DataFrames and splits a single DataFrame into training and testing sets), and a test_size. The test_size is the percentage of the overall data we'll be using for testing."
   ]
  },
  {
   "cell_type": "code",
   "execution_count": 23,
   "id": "ab456b8e",
   "metadata": {},
   "outputs": [],
   "source": [
    "from sklearn.model_selection import train_test_split"
   ]
  },
  {
   "cell_type": "markdown",
   "id": "d36f50ef",
   "metadata": {},
   "source": [
    "Since the sampling process is inherently random, we will always have different results when running the method. To be able to have the same results, or reproducible results, we can define a constant called SEED that has the value of 42.We can then pass that SEEDto the random_state parameter of our train_test_split method:"
   ]
  },
  {
   "cell_type": "code",
   "execution_count": 24,
   "id": "cc5f909f",
   "metadata": {},
   "outputs": [],
   "source": [
    "SEED = 42\n",
    "X_train, X_test, y_train, y_test = train_test_split(X, y, test_size = 0.2, random_state = SEED)"
   ]
  },
  {
   "cell_type": "code",
   "execution_count": 25,
   "id": "2dcf5524",
   "metadata": {},
   "outputs": [
    {
     "name": "stdout",
     "output_type": "stream",
     "text": [
      "[[122392.]\n",
      " [109432.]\n",
      " [ 56958.]\n",
      " [ 39344.]\n",
      " [ 39892.]\n",
      " [ 66030.]\n",
      " [ 56643.]\n",
      " [ 57082.]\n",
      " [ 55795.]\n",
      " [101303.]\n",
      " [ 46206.]\n",
      " [ 37732.]\n",
      " [105583.]\n",
      " [ 43526.]\n",
      " [ 98274.]\n",
      " [116970.]\n",
      " [ 81364.]\n",
      " [121873.]\n",
      " [ 91739.]\n",
      " [ 54446.]\n",
      " [ 63219.]\n",
      " [ 61112.]\n",
      " [ 93941.]\n",
      " [ 60151.]]\n",
      "[[10.4]\n",
      " [ 8.8]\n",
      " [ 4.1]\n",
      " [ 1.2]\n",
      " [ 2.3]\n",
      " [ 5.2]\n",
      " [ 3. ]\n",
      " [ 4.2]\n",
      " [ 4.1]\n",
      " [ 8. ]\n",
      " [ 1.4]\n",
      " [ 1.6]\n",
      " [ 9.1]\n",
      " [ 2.1]\n",
      " [ 7.2]\n",
      " [ 9.6]\n",
      " [ 6. ]\n",
      " [10.6]\n",
      " [ 6.9]\n",
      " [ 3.3]\n",
      " [ 4. ]\n",
      " [ 4.6]\n",
      " [ 6.1]\n",
      " [ 3.1]]\n"
     ]
    }
   ],
   "source": [
    "print(X_train)\n",
    "print(y_train)"
   ]
  },
  {
   "cell_type": "markdown",
   "id": "172ad4aa",
   "metadata": {},
   "source": [
    "##  3.Training a Linear Regression Model\n",
    "We have our train and test sets ready. Scikit-Learn has a plethora of model types we can easily import and train, LinearRegression being one of them:"
   ]
  },
  {
   "cell_type": "code",
   "execution_count": 26,
   "id": "81a25668",
   "metadata": {},
   "outputs": [],
   "source": [
    "from sklearn.linear_model import LinearRegression\n",
    "regressor = LinearRegression()"
   ]
  },
  {
   "cell_type": "markdown",
   "id": "050c133a",
   "metadata": {},
   "source": [
    "Now, we need to fit the line to our data, we will do that by using the .fit() method along with our X_train and y_train data:"
   ]
  },
  {
   "cell_type": "code",
   "execution_count": 27,
   "id": "56248e83",
   "metadata": {},
   "outputs": [
    {
     "data": {
      "text/plain": [
       "LinearRegression()"
      ]
     },
     "execution_count": 27,
     "metadata": {},
     "output_type": "execute_result"
    }
   ],
   "source": [
    "regressor.fit(X_train, y_train)"
   ]
  },
  {
   "cell_type": "markdown",
   "id": "3a8b9d92",
   "metadata": {},
   "source": [
    "we can inspect the intercept and slope by printing the regressor.intecept_ and regressor.coef_ attributes, respectively:"
   ]
  },
  {
   "cell_type": "code",
   "execution_count": 28,
   "id": "e5269c13",
   "metadata": {},
   "outputs": [
    {
     "name": "stdout",
     "output_type": "stream",
     "text": [
      "[-2.30785245]\n"
     ]
    }
   ],
   "source": [
    "print(regressor.intercept_)"
   ]
  },
  {
   "cell_type": "code",
   "execution_count": 29,
   "id": "dde9e8b9",
   "metadata": {},
   "outputs": [
    {
     "name": "stdout",
     "output_type": "stream",
     "text": [
      "[[0.00010235]]\n"
     ]
    }
   ],
   "source": [
    "print(regressor.coef_)"
   ]
  },
  {
   "cell_type": "code",
   "execution_count": 30,
   "id": "b23f0aab",
   "metadata": {},
   "outputs": [],
   "source": [
    "y_pred = regressor.predict(X_test)"
   ]
  },
  {
   "cell_type": "markdown",
   "id": "4f586b33",
   "metadata": {},
   "source": [
    "## 4.Making Predictions\n",
    "To make predictions on the test data, we pass the X_test values to the predict() method. We can assign the results to the variable y_pred:"
   ]
  },
  {
   "cell_type": "code",
   "execution_count": 31,
   "id": "288186c8",
   "metadata": {},
   "outputs": [
    {
     "name": "stdout",
     "output_type": "stream",
     "text": [
      "   Actual  Predicted\n",
      "0     9.7   9.220593\n",
      "1     5.0   4.645795\n",
      "2     8.3   9.341061\n",
      "3     5.4   6.196418\n",
      "4     3.3   4.288282\n",
      "5     3.8   3.545621\n"
     ]
    }
   ],
   "source": [
    "df_preds = pd.DataFrame({'Actual': y_test.squeeze(), 'Predicted': y_pred.squeeze()})\n",
    "print(df_preds)\n"
   ]
  },
  {
   "cell_type": "markdown",
   "id": "011bdd2c",
   "metadata": {},
   "source": [
    "The y_pred variable now contains all the predicted values for the input values in the X_test. We can now compare the actual output values for X_test with the predicted values, by arranging them side by side in a dataframe structure:"
   ]
  },
  {
   "cell_type": "code",
   "execution_count": 32,
   "id": "ecc40611",
   "metadata": {},
   "outputs": [
    {
     "data": {
      "text/plain": [
       "0.9039484379486218"
      ]
     },
     "execution_count": 32,
     "metadata": {},
     "output_type": "execute_result"
    }
   ],
   "source": [
    "regressor.score(X_test,y_test)"
   ]
  },
  {
   "cell_type": "markdown",
   "id": "8795f375",
   "metadata": {},
   "source": [
    "## 5.Evaluating the Model\n",
    "regression models, three evaluation metrics are mainly used.\n",
    "Mean Absolute Error (MAE),Mean Squared Error (MSE),Root Mean Squared Error (RMSE).\n",
    "We can use any of those three metrics to compare models (if we need to choose one). We can also compare the same regression model with different argument values or with different data and then consider the evaluation metrics. This is known as hyperparameter tuning - tuning the hyperparameters that influence a learning algorithm and observing the results.\n",
    "\n",
    "First, we will import the necessary modules for calculating the MAE and MSE errors. Respectively, the mean_absolute_error and mean_squared_error:"
   ]
  },
  {
   "cell_type": "code",
   "execution_count": 33,
   "id": "56b1496f",
   "metadata": {},
   "outputs": [],
   "source": [
    "from sklearn.metrics import mean_absolute_error, mean_squared_error"
   ]
  },
  {
   "cell_type": "code",
   "execution_count": 34,
   "id": "337c81e0",
   "metadata": {},
   "outputs": [],
   "source": [
    "import numpy as np"
   ]
  },
  {
   "cell_type": "markdown",
   "id": "bd658af9",
   "metadata": {},
   "source": [
    "We will also print the metrics results using the f string and the 2 digit precision after the comma with :.2f:"
   ]
  },
  {
   "cell_type": "code",
   "execution_count": 35,
   "id": "5e998360",
   "metadata": {},
   "outputs": [
    {
     "name": "stdout",
     "output_type": "stream",
     "text": [
      "Mean absolute error: 0.65\n",
      "Mean squared error: 0.52\n",
      "Root mean squared error: 0.72\n"
     ]
    }
   ],
   "source": [
    "mae = mean_absolute_error(y_test, y_pred)\n",
    "mse = mean_squared_error(y_test, y_pred)\n",
    "rmse = np.sqrt(mse)\n",
    "print(f'Mean absolute error: {mae:.2f}')\n",
    "print(f'Mean squared error: {mse:.2f}')\n",
    "print(f'Root mean squared error: {rmse:.2f}')"
   ]
  },
  {
   "cell_type": "code",
   "execution_count": null,
   "id": "dfb6dfd9",
   "metadata": {},
   "outputs": [],
   "source": []
  }
 ],
 "metadata": {
  "kernelspec": {
   "display_name": "Python 3 (ipykernel)",
   "language": "python",
   "name": "python3"
  },
  "language_info": {
   "codemirror_mode": {
    "name": "ipython",
    "version": 3
   },
   "file_extension": ".py",
   "mimetype": "text/x-python",
   "name": "python",
   "nbconvert_exporter": "python",
   "pygments_lexer": "ipython3",
   "version": "3.9.13"
  }
 },
 "nbformat": 4,
 "nbformat_minor": 5
}
